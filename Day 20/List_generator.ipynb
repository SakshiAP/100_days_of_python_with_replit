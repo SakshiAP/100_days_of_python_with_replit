{
 "cells": [
  {
   "cell_type": "code",
   "execution_count": null,
   "id": "f10bd0ea",
   "metadata": {},
   "outputs": [],
   "source": [
    "# What Can Range really do?\n",
    "\n",
    "# Bring on the start of list making by learning all the capabilities of range.\n",
    "\n",
    "# What are ten things you can always count on? Your fingers. Or this number generator I made.  Day 20 of #Replit100DaysOfCode #100DaysOfCode. Join me on @Replit https://join.replit.com/python\n",
    "\n",
    "\n",
    "# for i in range(100, 110):\n",
    "#   print(i)\n",
    "\n",
    "# print()\n",
    "# for i in range(1, 8):\n",
    "#   print(\"Day\", i)\n",
    "\n",
    "# print()\n",
    "# print(\"Thirteen Times Table\")\n",
    "# for i in range(1, 13):\n",
    "#   print(i, \"x 13 =\", i * 13)\n",
    "\n",
    "# print()\n",
    "# for i in range (0, 1000000, 25):\n",
    "#   print(i)\n",
    "\n",
    "# print()\n",
    "# for i in range(10, -1, -1):\n",
    "#   print(i)\n",
    "\n",
    "# print()\n",
    "# for i in range (10, 0,-1):\n",
    "#   print(i)\n",
    "\n",
    "# print()\n",
    "# for i in range (20, 40, 1):\n",
    "#   print(i)\n",
    "\n",
    "print(\"👉 Day 20 Challenge\")\n",
    "print(\"\")\n",
    "print(\"📍List Generator 📍\")\n",
    "print(\"\")\n",
    "\n",
    "print(\"🙏 Welcome! to my number list generator 🙏.\")\n",
    "print()\n",
    "start = int(input(\"Starting number 👉 : \"))\n",
    "end = int(input(\"Ending number 🙏 : \"))\n",
    "increment = int(input(\"Increment by ➕ : \"))\n",
    "\n",
    "for i in range(start,end,increment):\n",
    "  print(i)\n",
    "\n",
    "\n",
    "\n",
    "\n",
    "#replit100DaysOfCode"
   ]
  }
 ],
 "metadata": {
  "kernelspec": {
   "display_name": "Python 3 (ipykernel)",
   "language": "python",
   "name": "python3"
  },
  "language_info": {
   "codemirror_mode": {
    "name": "ipython",
    "version": 3
   },
   "file_extension": ".py",
   "mimetype": "text/x-python",
   "name": "python",
   "nbconvert_exporter": "python",
   "pygments_lexer": "ipython3",
   "version": "3.9.12"
  }
 },
 "nbformat": 4,
 "nbformat_minor": 5
}
