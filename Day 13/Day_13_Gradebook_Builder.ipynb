{
 "cells": [
  {
   "cell_type": "code",
   "execution_count": null,
   "id": "e0f6b304",
   "metadata": {},
   "outputs": [],
   "source": [
    "#Gradebook Builder\n",
    "\n",
    "#Whether you are a teacher or student, you can compute grades and generate your own gradebook with this project.\n",
    "\n",
    "#Built a grade calculator today! Definitely giving myself an A+ on this 😎 ! Day 13 of #Replit100DaysOfCode #100DaysOfCode. Join me on @Replit https://join.replit.com/python\n",
    "\n",
    "\n",
    "print(\"👉 Day 13 Challenge\")\n",
    "print()\n",
    "print(\"📍 Exam Grade Generator 📍\")\n",
    "print()\n",
    "\n",
    "Name_of_Exam = input(\"Enter the name of your exam : \")\n",
    "max_score = 100\n",
    "Your_score = float(input(\"What is your score in your exam ? :\"))\n",
    "percentage = (Your_score/100)*100 \n",
    "if Your_score >=90:\n",
    "  print(\"You Got A+ grade in\",Name_of_Exam,\"exam 😎\")\n",
    "  print(\"You got\",percentage,\"% marks in\",Name_of_Exam)\n",
    "elif 90>Your_score >=80:\n",
    "  print(\"You Got A grade in\",Name_of_Exam,\"exam 🤩\")\n",
    "  print(\"You got\",percentage,\"% marks in\",Name_of_Exam)\n",
    "elif 80>Your_score >=70:\n",
    "  print(\"You Got B grade in\",Name_of_Exam,\"exam 🥰\")\n",
    "  print(\"You got\",percentage,\"% marks in\",Name_of_Exam)\n",
    "elif 70>Your_score >=60:\n",
    "  print(\"You Got C grade in\",Name_of_Exam,\"exam 😊\")\n",
    "  print(\"You got\",percentage,\"% marks in\",Name_of_Exam)\n",
    "elif 60>Your_score >=50:\n",
    "  print(\"You Got D grade in\",Name_of_Exam,\"exam 🙂\")\n",
    "  print(\"You got\",percentage,\"% marks in\",Name_of_Exam)\n",
    "elif 50>Your_score >=40:\n",
    "  print(\"You Got U grade in\",Name_of_Exam,\"exam 😞\")\n",
    "  print(\"You got\",percentage,\"% marks in\",Name_of_Exam)\n",
    "else:\n",
    "  print(\"You Failed in\",Name_of_Exam,\"Exam 😭\")\n",
    "\n",
    "\n",
    "#replit100DaysOfCode"
   ]
  }
 ],
 "metadata": {
  "kernelspec": {
   "display_name": "Python 3 (ipykernel)",
   "language": "python",
   "name": "python3"
  },
  "language_info": {
   "codemirror_mode": {
    "name": "ipython",
    "version": 3
   },
   "file_extension": ".py",
   "mimetype": "text/x-python",
   "name": "python",
   "nbconvert_exporter": "python",
   "pygments_lexer": "ipython3",
   "version": "3.9.12"
  }
 },
 "nbformat": 4,
 "nbformat_minor": 5
}
