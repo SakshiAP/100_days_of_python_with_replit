{
 "cells": [
  {
   "cell_type": "code",
   "execution_count": null,
   "id": "78b726fe",
   "metadata": {},
   "outputs": [],
   "source": [
    "print(\"👉 Day 6 Challenge\")\n",
    "print(\"\")\n",
    "print(\"*****MY LOGIN SYSTEM*****\")\n",
    "\n",
    "print(\"\")\n",
    "username=input(\"Username:\")\n",
    "password=input(\"Password:\")\n",
    "\n",
    "if username==\"sakshi\" and password==\"1234\":\n",
    "  print(\"Welcome,sakshi !,Good Morning\")\n",
    "elif username==\"yash\" and password==\"rutu\":\n",
    "  print(\"Hey yash,what are you doing buddy?\")\n",
    "elif username==\"rutuja\" and password==\"yash\":\n",
    "  print(\"hello! baby,have nice day.\")\n",
    "else:\n",
    "  print(\"Username isn't  valid\")\n",
    "\n",
    "#replit100DaysOfCode\n",
    "\n"
   ]
  }
 ],
 "metadata": {
  "kernelspec": {
   "display_name": "Python 3 (ipykernel)",
   "language": "python",
   "name": "python3"
  },
  "language_info": {
   "codemirror_mode": {
    "name": "ipython",
    "version": 3
   },
   "file_extension": ".py",
   "mimetype": "text/x-python",
   "name": "python",
   "nbconvert_exporter": "python",
   "pygments_lexer": "ipython3",
   "version": "3.9.12"
  }
 },
 "nbformat": 4,
 "nbformat_minor": 5
}
