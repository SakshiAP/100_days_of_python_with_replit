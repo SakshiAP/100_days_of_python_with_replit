{
 "cells": [
  {
   "cell_type": "code",
   "execution_count": null,
   "id": "5c681719",
   "metadata": {},
   "outputs": [],
   "source": [
    "#myName = input(\"What's your name?: \")\n",
    "#if myName == \"David\":\n",
    " #print(\"Welcome Dude!\")\n",
    " #print(\"You're just the baldest dude I've ever seen\")\n",
    "#else:\n",
    " #print(\"Who on earth are you?!\")\n",
    "\n",
    "\n",
    "  #DAY 5 CHALLENGE : \"Which character are you?\" Generator\n",
    "print(\"👉 Day 5 Challenge : Which character are you?Generator\")\n",
    "\n",
    "print(\" \")\n",
    "hang = input(\"do you like hanging around?:\")\n",
    "if hang==\"No\":\n",
    "  print(\"Then you are not Spiderman\")\n",
    "else:\n",
    "   print(\"Amazing,You are spiderman\")\n",
    "\n",
    "print(\"\")\n",
    "\n",
    "voice = input(\"do you have a gravelly voice?:\") \n",
    "if voice==\"No\":\n",
    "  print(\"Aww,then you're not korg\")\n",
    "else:\n",
    "   print(\"Amazing,You are Korg\")\n",
    "\n",
    "print(\"\")\n",
    "captain = input(\"do you often feel 'Marvelous'?:\")\n",
    "if captain==\"No\":\n",
    "  print(\"Then you are not Captain\")\n",
    "else:\n",
    "   print(\"Amazing,You are Captain MArvel! Hi!\")"
   ]
  }
 ],
 "metadata": {
  "kernelspec": {
   "display_name": "Python 3 (ipykernel)",
   "language": "python",
   "name": "python3"
  },
  "language_info": {
   "codemirror_mode": {
    "name": "ipython",
    "version": 3
   },
   "file_extension": ".py",
   "mimetype": "text/x-python",
   "name": "python",
   "nbconvert_exporter": "python",
   "pygments_lexer": "ipython3",
   "version": "3.9.12"
  }
 },
 "nbformat": 4,
 "nbformat_minor": 5
}
