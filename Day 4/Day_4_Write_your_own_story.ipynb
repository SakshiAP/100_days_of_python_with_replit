{
 "cells": [
  {
   "cell_type": "code",
   "execution_count": null,
   "id": "d89f99ab",
   "metadata": {},
   "outputs": [],
   "source": [
    "#Day 4 : Write your own story\n",
    "\n",
    "# color print(\"\\033[textcolor m\") 0-37\n",
    "#default=0\n",
    "#black=30\n",
    "#red=31\n",
    "#green=32\n",
    "#yellow=33\n",
    "#blue=34\n",
    "#purple=35\n",
    "#cyan=36\n",
    "#white=37\n",
    "print(\"=== Your adventure simulatyor ===\")\n",
    "print(\"\"\"You'll be asked a bunch of questions then we'll make you up an amazing story with YOU as the star!🤩\"\"\") #emoji win+;/.\n",
    "print()\n",
    "name=input(\"your name:\")\n",
    "enemy=input(\"your worst enemy's name:\")\n",
    "superpower=input(\"your super power:\")\n",
    "print()\n",
    "\n",
    "print(\"Our story begins as our hero  name approaches a foreboading castle...\")\n",
    "\n",
    "print(\"Suddenly a bolt of lightning striked the ground at the feet of\\033[33m\",name,\"\\033[0m\")\n",
    "\n",
    "print(\"'our final battle begins!' shouts the evil\\33[34m\",enemy,\"\\33[0mclearly missing the fact that\\33[35m\",name,\"\\33[0mhas the power of\\33[34m\",superpower,\"\\33[0mwhich means they'll win quite easily\")\n"
   ]
  }
 ],
 "metadata": {
  "kernelspec": {
   "display_name": "Python 3 (ipykernel)",
   "language": "python",
   "name": "python3"
  },
  "language_info": {
   "codemirror_mode": {
    "name": "ipython",
    "version": 3
   },
   "file_extension": ".py",
   "mimetype": "text/x-python",
   "name": "python",
   "nbconvert_exporter": "python",
   "pygments_lexer": "ipython3",
   "version": "3.9.12"
  }
 },
 "nbformat": 4,
 "nbformat_minor": 5
}
