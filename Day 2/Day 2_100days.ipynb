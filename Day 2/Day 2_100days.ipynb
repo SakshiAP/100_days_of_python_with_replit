{
 "cells": [
  {
   "cell_type": "code",
   "execution_count": null,
   "id": "daaabba2",
   "metadata": {},
   "outputs": [],
   "source": [
    "#Day 2\n",
    "my_name=input(\"What is your Name?:\")\n",
    "food=input(\"What's your favourite food?:\")\n",
    "music=input(\"What's your favourite music?:\")\n",
    "live=input(\"Where do you live?:\")\n",
    "\n",
    "print(\"\")\n",
    "print(\"\")\n",
    "print(\"You are\")\n",
    "print(my_name)\n",
    "print(\"You're probably hungry for\")\n",
    "print(food)\n",
    "print(\"and you're definitely getting your groove on to\")\n",
    "print(music)\n",
    "print(\"Living in the amazing\")\n",
    "print(live)\n",
    "\n",
    "#replit100DaysOfCode"
   ]
  }
 ],
 "metadata": {
  "kernelspec": {
   "display_name": "Python 3 (ipykernel)",
   "language": "python",
   "name": "python3"
  },
  "language_info": {
   "codemirror_mode": {
    "name": "ipython",
    "version": 3
   },
   "file_extension": ".py",
   "mimetype": "text/x-python",
   "name": "python",
   "nbconvert_exporter": "python",
   "pygments_lexer": "ipython3",
   "version": "3.9.12"
  }
 },
 "nbformat": 4,
 "nbformat_minor": 5
}
