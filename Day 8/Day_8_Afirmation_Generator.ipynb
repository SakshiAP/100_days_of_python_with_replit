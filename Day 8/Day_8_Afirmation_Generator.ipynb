{
 "cells": [
  {
   "cell_type": "code",
   "execution_count": null,
   "id": "a4c85086",
   "metadata": {},
   "outputs": [],
   "source": [
    "print(\"👉 Day 8 Challenge\")\n",
    "print()\n",
    "\n",
    "#DAY 8 affirmations generator\n",
    "print(\"** Affirmations Generator **\")\n",
    "print(\" \")\n",
    "name = input(\"enter name : \")\n",
    "print(\"hi\",name)\n",
    "\n",
    "print(\" \")\n",
    "\n",
    "music = input(\"which is your favourite music?: \")\n",
    "book = input(\"which is your favorite book?: \")\n",
    "exercise = input(\"favourite exercise?🏋️‍♂️: \")\n",
    "food = input(\"favourite food?: \")\n",
    "wday = input(\"enter current day of the week :\")\n",
    "\n",
    "if wday == 'monday'or wday == 'Monday':\n",
    "  print(\"Hey\",name,\"It's an office day😣!,Please do the meditation\")\n",
    "elif wday == 'tuesday'or wday == 'Tuesday':\n",
    "  print(\"Hey\",name,\"Start your day with exercise\",exercise)\n",
    "elif wday == 'wednesday'or wday == 'Wednesday':\n",
    "  print(\"Hey\",name,\"enjoying gym with\", music,\"and\",exercise)\n",
    "elif wday == 'thursday'or wday == 'Thursday':\n",
    "  print(\"Hey\",name,\"It's thursday read your favorite book\",book)\n",
    "elif wday == 'friday'or wday == 'Friday':\n",
    "  print(\"Hello !\",name,\"Yeah! it's a chicken day\")\n",
    "elif wday == 'saturday'or wday == 'Saturday':\n",
    "  print(\"Hey\",name,\"😤finally it's not an office day\")\n",
    "elif wday == 'sunday'or wday == 'Sunday':\n",
    "  print(\"Hey\",name,\"rest day\")\n",
    "else:\n",
    "  print(\"hi\",name,\"I am not sure which day it is\")\n",
    "  \n",
    "\n",
    "  #replit100DaysOfCode"
   ]
  }
 ],
 "metadata": {
  "kernelspec": {
   "display_name": "Python 3 (ipykernel)",
   "language": "python",
   "name": "python3"
  },
  "language_info": {
   "codemirror_mode": {
    "name": "ipython",
    "version": 3
   },
   "file_extension": ".py",
   "mimetype": "text/x-python",
   "name": "python",
   "nbconvert_exporter": "python",
   "pygments_lexer": "ipython3",
   "version": "3.9.12"
  }
 },
 "nbformat": 4,
 "nbformat_minor": 5
}
