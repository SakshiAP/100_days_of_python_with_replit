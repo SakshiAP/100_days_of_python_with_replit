{
 "cells": [
  {
   "cell_type": "code",
   "execution_count": null,
   "id": "2cc5599c",
   "metadata": {},
   "outputs": [],
   "source": [
    "# Throwback to Math Facts\n",
    "\n",
    "# Create a game to test your friends’ knowledge on their math facts.\n",
    "\n",
    "# Let's multiply on the floor. Why? Because you can't use tables 😁. Day 21 of #Replit100DaysOfCode #100DaysOfCode. Join me on @Replit https://join.replit.com/python\n",
    "\n",
    "\n",
    "print(\"👉 Day 21 Challenge\")\n",
    "print()\n",
    "print(\" 📍 Multiplication Table \")\n",
    "print()\n",
    "\n",
    "\n",
    "count = 0\n",
    "for i in range(1,11):\n",
    "  num = int(input(\"Name your multiples : \"))\n",
    "  table = i*num\n",
    "  print(i,\"x\",num,\"=\",i*num)\n",
    "\n",
    "  guess = int(input(\"answer:  \"))\n",
    "  if guess == table:\n",
    "    print(\"Great work !🥳\")\n",
    "    count+=1\n",
    "  else:\n",
    "    print(\"Incorrect.\\nCorrect answer is\",table)\n",
    "\n",
    "if count == 10:\n",
    "  print(\"Best score\")\n",
    "else:\n",
    "  print(\"Your score is\",count,\"out of 10 !\")\n",
    "\n",
    "\n",
    "#replit100DaysOfCode\n",
    "\n",
    "\n",
    "\n",
    "\n",
    "\n"
   ]
  }
 ],
 "metadata": {
  "kernelspec": {
   "display_name": "Python 3 (ipykernel)",
   "language": "python",
   "name": "python3"
  },
  "language_info": {
   "codemirror_mode": {
    "name": "ipython",
    "version": 3
   },
   "file_extension": ".py",
   "mimetype": "text/x-python",
   "name": "python",
   "nbconvert_exporter": "python",
   "pygments_lexer": "ipython3",
   "version": "3.9.12"
  }
 },
 "nbformat": 4,
 "nbformat_minor": 5
}
