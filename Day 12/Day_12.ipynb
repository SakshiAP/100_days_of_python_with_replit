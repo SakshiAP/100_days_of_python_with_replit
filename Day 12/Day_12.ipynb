{
 "cells": [
  {
   "cell_type": "code",
   "execution_count": null,
   "id": "c8a91bb4",
   "metadata": {},
   "outputs": [],
   "source": [
    "# Find All the Bugs!\n",
    "# This course has taught you to squash bugs like a true programmer. Find the errors and start debugging like a pro!\n",
    "\n",
    "#Smashed some gnarly bugs today 🐛 .  Day 12 of #Replit100DaysOfCode #100DaysOfCode. Join me on @Replit https://join.replit.com/python\n",
    "\n",
    "\n",
    "print(\"👉 Day 12 Challenge\")\n",
    "print()\n",
    "print(\"Debugging 🚫🪲 code\")\n",
    "print()\n",
    "\n",
    "print(\"100 Days of Code QUIZ\")\n",
    "print()\n",
    "print(\"How many can you answer correctly ?\")\n",
    "ans1 = input(\"What language are we writing in? : \")\n",
    "if ans1 == \"python\":\n",
    "  print(\"Correct\")\n",
    "else:\n",
    "  print(\"Nope🙈\")\n",
    "ans2 = int(input(\"Which lesson number is this?: \"))\n",
    "if ans2>12:\n",
    "  print(\"We're not quite that far yet\")\n",
    "elif ans2==12:\n",
    "  print(\"That's right!\")\n",
    "else:\n",
    "  print(\"We've gone well past that!\")\n",
    "\n",
    "\n",
    "\n",
    "#replit100DaysOfCode"
   ]
  }
 ],
 "metadata": {
  "kernelspec": {
   "display_name": "Python 3 (ipykernel)",
   "language": "python",
   "name": "python3"
  },
  "language_info": {
   "codemirror_mode": {
    "name": "ipython",
    "version": 3
   },
   "file_extension": ".py",
   "mimetype": "text/x-python",
   "name": "python",
   "nbconvert_exporter": "python",
   "pygments_lexer": "ipython3",
   "version": "3.9.12"
  }
 },
 "nbformat": 4,
 "nbformat_minor": 5
}
