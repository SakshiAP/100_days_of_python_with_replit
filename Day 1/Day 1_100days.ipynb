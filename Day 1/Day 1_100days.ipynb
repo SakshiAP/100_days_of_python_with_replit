{
 "cells": [
  {
   "cell_type": "code",
   "execution_count": null,
   "id": "7e01b0af",
   "metadata": {},
   "outputs": [],
   "source": [
    "print(\"Sakshi\")\n",
    "print(\"september 10 2023\")\n",
    "print(\"I am signing up for replit's 100 days of python challenge!\")\n",
    "print(\n",
    "    \"\"\"I will make sure to spendsome time evary day coding along for a minimum of 10 minutes a day.\"\"\"\n",
    ")\n",
    "print(\n",
    "    \"\"\"I will be using replit, an amazing online IDE so I can do this from my phone whenever I happen to be. No excuses for not coding from the middle of field!\"\"\"\n",
    ")\n",
    "print(\"I am coding🥳\")\n",
    "#print(\"You can follow my progress at replit.com/\")\n",
    "print(\"hello replit\")\n",
    "print(\"and how are you\")\n",
    "print(\"😄\")\n",
    "\n",
    "print(\"\"\"here's an exact BIT of text\"\"\")\n"
   ]
  }
 ],
 "metadata": {
  "kernelspec": {
   "display_name": "Python 3 (ipykernel)",
   "language": "python",
   "name": "python3"
  },
  "language_info": {
   "codemirror_mode": {
    "name": "ipython",
    "version": 3
   },
   "file_extension": ".py",
   "mimetype": "text/x-python",
   "name": "python",
   "nbconvert_exporter": "python",
   "pygments_lexer": "ipython3",
   "version": "3.9.12"
  }
 },
 "nbformat": 4,
 "nbformat_minor": 5
}
