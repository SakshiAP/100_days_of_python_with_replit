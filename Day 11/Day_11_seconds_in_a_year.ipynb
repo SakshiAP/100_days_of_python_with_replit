{
 "cells": [
  {
   "cell_type": "code",
   "execution_count": null,
   "id": "726a0a1f",
   "metadata": {},
   "outputs": [],
   "source": [
    "# 525,600 minutes. Now, use your newfound math skills to determine how many seconds are in a year.\n",
    "\n",
    "# How many seconds in a year 🙀 !! Day 11 of #Replit100DaysOfCode #100DaysOfCode. Join me on @Replit https://join.replit.com/python \n",
    "\n",
    "# Day 11 : \"525,600 minutes\"\n",
    "print(\"👉 Day 11 Challenge\")\n",
    "print(\"\")\n",
    "print(\"How many seconds are in a year?🤔\")\n",
    "print(\"\")\n",
    "\n",
    "#525,600 minutes. Now, use your newfound math skills to determine how many seconds are in a year.\n",
    "\n",
    "# CHALLENGE : HOW MANY SECONDS IN A YEAR\n",
    "\n",
    "'''minute = 60 seconds\n",
    "60 minutes = 1 hour\n",
    "\n",
    "24 hours = 1 day\n",
    "\n",
    "31 days = 1 month\n",
    "\n",
    "12 months = 1 year\n",
    "\n",
    "365 days = 1 year\n",
    "\n",
    "366 day = 1 leap year'''\n",
    "year = int(input(\"Enter the year : \"))\n",
    "\n",
    "if year%4==0:\n",
    "  print(\"There are 366 days in a year\")\n",
    "  L = 366*86400 \n",
    "  print(\"The seconds in year:\",L)\n",
    "elif year%4!=0:\n",
    "  print(\"Its a Leap year,There are 365 days in a year\")\n",
    "  N= 365*86400 \n",
    "  print(\"The seconds in year:\",N)\n",
    "else:\n",
    "  print(\"Invalid Year, Try again\")\n",
    "\n",
    "\n",
    "#replit100DaysOfCode"
   ]
  }
 ],
 "metadata": {
  "kernelspec": {
   "display_name": "Python 3 (ipykernel)",
   "language": "python",
   "name": "python3"
  },
  "language_info": {
   "codemirror_mode": {
    "name": "ipython",
    "version": 3
   },
   "file_extension": ".py",
   "mimetype": "text/x-python",
   "name": "python",
   "nbconvert_exporter": "python",
   "pygments_lexer": "ipython3",
   "version": "3.9.12"
  }
 },
 "nbformat": 4,
 "nbformat_minor": 5
}
