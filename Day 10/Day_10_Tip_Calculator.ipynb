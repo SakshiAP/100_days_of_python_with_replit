{
 "cells": [
  {
   "cell_type": "code",
   "execution_count": null,
   "id": "7f2042e3",
   "metadata": {},
   "outputs": [],
   "source": [
    "# Built my own tip calculator! Time to put it to the test at a restaurant 🍕 !  Day 10 of #Replit100DaysOfCode #100DaysOfCode. Join me on @Replit https://join.replit.com/python \n",
    "\n",
    "\n",
    "# Day 10 :Show Me the $$\n",
    "print(\"👉 Day 10 Challenge\")\n",
    "print()\n",
    "print(\"Extend your bill calculator\")\n",
    "print(\"\")\n",
    "\n",
    "# Code basic mathprinciples (+, -, *, /), build your own tip calculator, and never calculate numbers again!\n",
    "\n",
    "# CHALLENGE : TIP CALCULATOR\n",
    "\n",
    "total_bill = float(input(\"What is the total bill?: \"))\n",
    "tip = float(input(\"What percentage do you want to tip?: \"))\n",
    "people = int(input(\"How many people are there in group? :\"))\n",
    "total_tip = total_bill*(tip/100)\n",
    "total_bill_tip = total_bill + total_tip\n",
    "print(\"total bill :\",total_bill_tip)\n",
    "per_person = total_bill_tip/people\n",
    "print(\"You each owe: \",per_person)\n",
    "\n",
    "print(\" \")\n",
    "\n",
    "# Trying different mathematical symbols\n",
    "addition = 4+3\n",
    "print(\"adiition is:\",addition)\n",
    "\n",
    "subtraction = 8-9\n",
    "print(\"subtractioni is:\",subtraction)\n",
    "\n",
    "multiplication = 4*32\n",
    "print(\"multiplication is:\",multiplication)\n",
    "\n",
    "division = 50/5\n",
    "print(\"division is :\",division)\n",
    "\n",
    "square = 5**2\n",
    "print(\"square is:\",square)\n",
    "\n",
    "modulo = 15%4\n",
    "print(\"remainder is:\",modulo)\n",
    "\n",
    "divisor = 15//4\n",
    "print(\"divisor is:\",divisor)\n",
    "\n",
    "print(\" \")\n",
    "myBill = float(input(\"What was the bil?:\"))\n",
    "numberOfPeople = int(input(\"How many people?:\"))\n",
    "answer = myBill / numberOfPeople\n",
    "answer = round(answer,2) \n",
    "# you can round your answer variable upto 2 decimals\n",
    "print(\"you all owe\", answer)\n",
    "\n",
    "#replit100daysofcode"
   ]
  }
 ],
 "metadata": {
  "kernelspec": {
   "display_name": "Python 3 (ipykernel)",
   "language": "python",
   "name": "python3"
  },
  "language_info": {
   "codemirror_mode": {
    "name": "ipython",
    "version": 3
   },
   "file_extension": ".py",
   "mimetype": "text/x-python",
   "name": "python",
   "nbconvert_exporter": "python",
   "pygments_lexer": "ipython3",
   "version": "3.9.12"
  }
 },
 "nbformat": 4,
 "nbformat_minor": 5
}
