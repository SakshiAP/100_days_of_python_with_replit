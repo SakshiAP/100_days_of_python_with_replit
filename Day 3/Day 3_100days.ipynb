{
 "cells": [
  {
   "cell_type": "code",
   "execution_count": null,
   "id": "4ebd3cc7",
   "metadata": {},
   "outputs": [],
   "source": [
    "#Day 3 : concatenation\n",
    "print(\"👉 Day 3 Challenge\")\n",
    "print()\n",
    "print(\"The Ultimate Wacky Recipe Maker\")\n",
    "print()\n",
    "fname = input(\"name a food:\")\n",
    "pname = input(\"name a type of plant:\")\n",
    "cookiname = input(\"Name a method of cooking:\")\n",
    "burname = input(\"what word describe burned foor?:\")\n",
    "DIYitem = input(\"Name a DIY item:\")\n",
    "print(\"\")\n",
    "print(\"Menu\")\n",
    "print(cookiname,fname,'with',burname,pname,\"on a bed of\",DIYitem)\n",
    "\n",
    "#replit100DaysOfCode\n"
   ]
  }
 ],
 "metadata": {
  "kernelspec": {
   "display_name": "Python 3 (ipykernel)",
   "language": "python",
   "name": "python3"
  },
  "language_info": {
   "codemirror_mode": {
    "name": "ipython",
    "version": 3
   },
   "file_extension": ".py",
   "mimetype": "text/x-python",
   "name": "python",
   "nbconvert_exporter": "python",
   "pygments_lexer": "ipython3",
   "version": "3.9.12"
  }
 },
 "nbformat": 4,
 "nbformat_minor": 5
}
