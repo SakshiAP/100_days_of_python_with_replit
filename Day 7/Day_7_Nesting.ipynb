{
 "cells": [
  {
   "cell_type": "code",
   "execution_count": null,
   "id": "3715cd0b",
   "metadata": {},
   "outputs": [],
   "source": [
    "print(\"👉 Day 7 Challenge\")\n",
    "print(\"\")\n",
    "print(\"** Fake Fan Question Generator **\")\n",
    "print(\"\")\n",
    "\n",
    "anime = input(\"what is your favourite anime?\")\n",
    "\n",
    "if anime == \"Hanuman\":\n",
    "  print(\"Ohhh ! really nice\")\n",
    "  prayer = input(\"who's prayer he did?\")\n",
    "  if prayer == \"Ram\":\n",
    "    print(\"That's good!\")\n",
    "  else:\n",
    "    print(\"Wrong answer\")\n",
    "elif anime == \"little krishna\":\n",
    "  print(\"Best anime ever\")\n",
    "else:\n",
    "  print(\"I don't know anyother anime\")\n",
    "\n",
    "#replit100DaysOfCode\n",
    "\n",
    "\n",
    "  \n",
    " "
   ]
  }
 ],
 "metadata": {
  "kernelspec": {
   "display_name": "Python 3 (ipykernel)",
   "language": "python",
   "name": "python3"
  },
  "language_info": {
   "codemirror_mode": {
    "name": "ipython",
    "version": 3
   },
   "file_extension": ".py",
   "mimetype": "text/x-python",
   "name": "python",
   "nbconvert_exporter": "python",
   "pygments_lexer": "ipython3",
   "version": "3.9.12"
  }
 },
 "nbformat": 4,
 "nbformat_minor": 5
}
